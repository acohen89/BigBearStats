{
 "cells": [
  {
   "cell_type": "code",
   "execution_count": 9,
   "metadata": {},
   "outputs": [
    {
     "data": {
      "text/plain": [
       "9"
      ]
     },
     "execution_count": 9,
     "metadata": {},
     "output_type": "execute_result"
    }
   ],
   "source": [
    "import pandas as pd \n",
    "import numpy as np\n",
    "from Player import *\n",
    "from Main import * \n",
    "import unittest\n",
    "df = pd.read_csv('BigBearStats.csv', index_col=2)\n",
    "badColumns = ['Date/Time', 'Point Elapsed Seconds','Player 7', 'Player 8', \n",
    "           'Player 9', 'Player 10', 'Player 11', 'Player 12', 'Player 13', 'Player 14', \n",
    "           'Player 15', 'Player 16', 'Player 17', 'Player 18', 'Player 19', 'Player 20', \n",
    "           'Player 21', 'Player 22', 'Player 23', 'Player 24', 'Player 25', 'Player 26', \n",
    "           'Player 27', 'Elapsed Time (secs)', 'Begin X', 'Begin Y', 'End X', 'End Y', \n",
    "           'Distance Unit of Measure', 'Absolute Distance', 'Lateral Distance', 'Toward Our Goal Distance', 'Begin Area', 'End Area']\n",
    "def getPlayers(df):\n",
    "    players = {}\n",
    "    playerColNames = ['Player 0', 'Player 1', 'Player 2', 'Player 3', 'Player 4', 'Player 5', 'Player 6']\n",
    "    for col in playerColNames:\n",
    "        for playerName in df[col]:\n",
    "            curPlayer = Player(playerName)\n",
    "            players.update({playerName: curPlayer})\n",
    "    return players\n",
    "df = df.drop(badColumns, axis=1)\n",
    "players = getPlayers(df) \n",
    "playersDF = pd.DataFrame.from_records((vars(player) for player in list(players.values())), index='name')\n",
    "df = df.rename(columns={'Tournamemnt': 'Tournament'})\n",
    "players = processActions(df, players)\n",
    "playersDF = pd.DataFrame.from_records((vars(player) for player in list(players.values())), index='name')\n",
    "playersDF.loc[:,'games']['Blaze'][('Cav Cup', 'Navy y')].pointsPlayed + playersDF.loc[:,'games']['Blaze'][('Cav Cup', 'Navy x')].pointsPlayed"
   ]
  },
  {
   "cell_type": "code",
   "execution_count": null,
   "metadata": {},
   "outputs": [],
   "source": []
  }
 ],
 "metadata": {
  "kernelspec": {
   "display_name": "Python 3.9.12 ('base')",
   "language": "python",
   "name": "python3"
  },
  "language_info": {
   "codemirror_mode": {
    "name": "ipython",
    "version": 3
   },
   "file_extension": ".py",
   "mimetype": "text/x-python",
   "name": "python",
   "nbconvert_exporter": "python",
   "pygments_lexer": "ipython3",
   "version": "3.9.12"
  },
  "orig_nbformat": 4,
  "vscode": {
   "interpreter": {
    "hash": "3e2213bc59ed6f6bc5061323753a1cc8cf39cd8d9601bbbbf1edd777a0c2bca0"
   }
  }
 },
 "nbformat": 4,
 "nbformat_minor": 2
}
